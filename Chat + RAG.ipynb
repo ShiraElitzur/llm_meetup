{
 "cells": [
  {
   "cell_type": "markdown",
   "id": "c3be4bb6-0d06-4406-8972-a77038674e4e",
   "metadata": {},
   "source": [
    "# Chat With RAG"
   ]
  },
  {
   "cell_type": "markdown",
   "id": "94e9aeaf-1d00-4d87-97e6-cb906e5db469",
   "metadata": {},
   "source": [
    "### Load dir with PDFs"
   ]
  },
  {
   "cell_type": "code",
   "execution_count": 1,
   "id": "29c83b6b-4ba2-4972-b831-b56cb47af0e8",
   "metadata": {},
   "outputs": [],
   "source": [
    "from langchain.document_loaders import DirectoryLoader"
   ]
  },
  {
   "cell_type": "code",
   "execution_count": 2,
   "id": "3f3c4b1a-aefb-4997-ac0d-f13bbe569917",
   "metadata": {},
   "outputs": [
    {
     "name": "stderr",
     "output_type": "stream",
     "text": [
      "/Users/shiraelitzur/python_environments/rag_env123/lib/python3.12/site-packages/tqdm/auto.py:21: TqdmWarning: IProgress not found. Please update jupyter and ipywidgets. See https://ipywidgets.readthedocs.io/en/stable/user_install.html\n",
      "  from .autonotebook import tqdm as notebook_tqdm\n"
     ]
    }
   ],
   "source": [
    "loader = DirectoryLoader('data', glob=\"*.pdf\")\n",
    "documents = loader.load()"
   ]
  },
  {
   "cell_type": "markdown",
   "id": "dd15550d-8b03-47ae-873f-84727f0a3164",
   "metadata": {},
   "source": [
    "### Split the docs into chunks"
   ]
  },
  {
   "cell_type": "code",
   "execution_count": 3,
   "id": "c60aa435-a0ab-417b-97fe-05da9545beae",
   "metadata": {},
   "outputs": [],
   "source": [
    "from langchain.text_splitter import RecursiveCharacterTextSplitter"
   ]
  },
  {
   "cell_type": "code",
   "execution_count": 4,
   "id": "60d3bdf8-f926-46c3-ac75-4f14b2abe9b3",
   "metadata": {},
   "outputs": [],
   "source": [
    "text_splitter = RecursiveCharacterTextSplitter(\n",
    "    chunk_size=1000,\n",
    "    chunk_overlap=500,\n",
    "    length_function=len,\n",
    "    add_start_index=True,\n",
    ")\n",
    "chunks = text_splitter.split_documents(documents)"
   ]
  },
  {
   "cell_type": "code",
   "execution_count": 7,
   "id": "d96a3617-a498-4c8c-9ff0-fbedf2e05cf9",
   "metadata": {},
   "outputs": [
    {
     "data": {
      "text/plain": [
       "Document(metadata={'source': 'data/friendsS1.pdf', 'start_index': 0}, page_content=\"The One Where Monica Gets a New Roommate (The Pilot-The Uncut Version)\\n\\nWritten by: Marta Kauffman & David Crane Transcribed by: guineapig Additional transcribing by: Eric Aasen (Note: The previously unseen parts of this episode are shown in blue text.)\\n\\n[Scene: Central Perk, Chandler, Joey, Phoebe, and Monica are there.]\\n\\nMonica: There's nothing to tell! He's just some guy I work with!\\n\\nJoey: C'mon, you're going out with the guy! There's gotta be something wrong with him!\\n\\nChandler: All right Joey, be nice. So does he have a hump? A hump and a hairpiece?\\n\\nPhoebe: Wait, does he eat chalk?\\n\\n(They all stare, bemused.)\\n\\nPhoebe: Just, 'cause, I don't want her to go through what I went through with Carl- oh!\\n\\nMonica: Okay, everybody relax. This is not even a date. It's just two people going out to dinner and- not having sex.\\n\\nChandler: Sounds like a date to me.\\n\\n[Time Lapse]\")"
      ]
     },
     "execution_count": 7,
     "metadata": {},
     "output_type": "execute_result"
    }
   ],
   "source": [
    "# chunks[5]\n",
    "chunks[0]"
   ]
  },
  {
   "cell_type": "code",
   "execution_count": 10,
   "id": "01b7b875-ffd8-4038-9fcf-83ca592a6077",
   "metadata": {},
   "outputs": [
    {
     "name": "stdout",
     "output_type": "stream",
     "text": [
      "{'source': 'data/harry_potter1.pdf', 'start_index': 456855}\n"
     ]
    }
   ],
   "source": [
    "print(chunks[-1].metadata)"
   ]
  },
  {
   "cell_type": "markdown",
   "id": "c3f082b1-6576-4483-99d4-69d89048217b",
   "metadata": {},
   "source": [
    "### Create an embeddings function and examine embeddings"
   ]
  },
  {
   "cell_type": "code",
   "execution_count": 11,
   "id": "fdae0dea-1daa-4f47-988b-f9afc34aac04",
   "metadata": {},
   "outputs": [],
   "source": [
    "from langchain.embeddings import GPT4AllEmbeddings"
   ]
  },
  {
   "cell_type": "code",
   "execution_count": 12,
   "id": "1fc670c2-b4d8-4855-82ff-38941256ba35",
   "metadata": {},
   "outputs": [],
   "source": [
    "model_name = \"all-MiniLM-L6-v2.gguf2.f16.gguf\"\n",
    "gpt4all_kwargs = {'allow_download': 'True'}\n",
    "embedding_function = GPT4AllEmbeddings(\n",
    "    model_name=model_name,\n",
    "    gpt4all_kwargs=gpt4all_kwargs\n",
    ")"
   ]
  },
  {
   "cell_type": "code",
   "execution_count": null,
   "id": "d62fd638-fdc9-49f4-97b8-68cfc3eccaaf",
   "metadata": {},
   "outputs": [],
   "source": [
    "vector = embedding_function.embed_query(\"apple\")\n",
    "vector"
   ]
  },
  {
   "cell_type": "code",
   "execution_count": 20,
   "id": "bc68e470-8f08-4184-a0f5-4c06fde105d0",
   "metadata": {},
   "outputs": [
    {
     "name": "stdout",
     "output_type": "stream",
     "text": [
      "{'score': 0.8075914250086906}\n"
     ]
    }
   ],
   "source": [
    "from langchain.evaluation import load_evaluator\n",
    "\n",
    "evaluator = load_evaluator(\"pairwise_embedding_distance\", embeddings=embedding_function)\n",
    "x = evaluator.evaluate_string_pairs(prediction=\"apple\", prediction_b=\"golan\")\n",
    "print(x)"
   ]
  },
  {
   "cell_type": "markdown",
   "id": "24638cfd-176c-4260-932e-8bcacebdddef",
   "metadata": {},
   "source": [
    "### Create / Load the vector store"
   ]
  },
  {
   "cell_type": "code",
   "execution_count": 28,
   "id": "0e9fb05e-b1a9-4198-ad03-b1f5072bc100",
   "metadata": {},
   "outputs": [],
   "source": [
    "from langchain.vectorstores.chroma import Chroma"
   ]
  },
  {
   "cell_type": "code",
   "execution_count": 26,
   "id": "5a2b633b-fc8a-48c6-bc5b-3a1e73513df5",
   "metadata": {},
   "outputs": [],
   "source": [
    "CHROMA_PATH = \"chroma_db_friends\"\n",
    "\n",
    "db = Chroma.from_documents(\n",
    "    chunks, embedding_function, persist_directory=CHROMA_PATH\n",
    ")\n",
    "# db = Chroma(persist_directory=CHROMA_PATH, embedding_function=embedding_function)"
   ]
  },
  {
   "cell_type": "code",
   "execution_count": 30,
   "id": "3a521093-069a-47ca-b45c-d9cdd0e8b7db",
   "metadata": {},
   "outputs": [
    {
     "name": "stdout",
     "output_type": "stream",
     "text": [
      "(Document(metadata={'source': 'data/friendsS1.pdf', 'start_index': 23940}, page_content=\"Phoebe: (sings) What I said you had...\\n\\nMonica: (to Phoebe) Would you stop?\\n\\nPhoebe: Oh, was I doing it again?\\n\\nAll: Yes!\\n\\nMonica: I said that you had a nice butt, it's just not a great butt.\\n\\nJoey: Oh, you wouldn't know a great butt if it came up and bit ya.\\n\\nRoss: There's an image.\\n\\nRachel: (walks up with a pot of coffee) Would anybody like more coffee?\\n\\nChandler: Did you make it, or are you just serving it?\\n\\nRachel: I'm just serving it.\\n\\nAll: Yeah. Yeah, I'll have a cup of coffee.\\n\\nChandler: Kids, new dream... I'm in Las Vegas. (Rachel sits down to hear Chandler's dream.)\\n\\nCustomer: (To Rachel) Ahh, miss? More coffee?\\n\\nRachel: Ugh. (To another customer that's leaving.) Excuse me, could you give this to that guy over there? (Hands him the coffee pot.) Go ahead. (He does so.) Thank you. (To the gang.) Sorry. Okay, Las Vegas.\\n\\nChandler: Okay, so, I'm in Las Vegas... I'm Liza Minelli-\\n\\nEnd\"), 0.09835466144256666)\n"
     ]
    }
   ],
   "source": [
    "query = \"What is the name of the coffee shop?\"\n",
    "results = db.similarity_search_with_relevance_scores(query, k=3)\n",
    "print(results[0])"
   ]
  },
  {
   "cell_type": "code",
   "execution_count": 39,
   "id": "b1ff1e69-c662-4feb-b5b7-dc140c75d67a",
   "metadata": {},
   "outputs": [],
   "source": [
    "# query = \"Describe Prof. McGonagall\"\n",
    "# results = db.similarity_search_with_relevance_scores(query, k=3)\n",
    "# print(results)"
   ]
  },
  {
   "cell_type": "markdown",
   "id": "3ba96b72-7ee7-4dac-b969-3cf7be7c9b72",
   "metadata": {},
   "source": [
    "## Use the retrieved document as context for the LLM"
   ]
  },
  {
   "cell_type": "code",
   "execution_count": 31,
   "id": "9c7a327c-e87a-41d9-94d7-ee40305b261b",
   "metadata": {},
   "outputs": [],
   "source": [
    "from langchain.prompts import ChatPromptTemplate"
   ]
  },
  {
   "cell_type": "code",
   "execution_count": 32,
   "id": "79696e75-3538-4527-ab1a-c8c389402279",
   "metadata": {},
   "outputs": [],
   "source": [
    "PROMPT_TEMPLATE = \"\"\"\n",
    "Answer the question based only on the following context.\n",
    "If not provided or not relevant, answer 'I do not have enough information to answer\n",
    "that question'. the context:\n",
    "{context}\n",
    "------\n",
    "Answer the question based on the above context: {query}\n",
    "\"\"\""
   ]
  },
  {
   "cell_type": "code",
   "execution_count": null,
   "id": "7a7cf3f7-4d71-47a9-bb69-6a8d3a6cb3ec",
   "metadata": {},
   "outputs": [],
   "source": [
    "context_text = \"\\n\\n---\\n\\n\".join([doc.page_content for doc, _score in results])\n",
    "prompt_template = ChatPromptTemplate.from_template(PROMPT_TEMPLATE)\n",
    "prompt = prompt_template.format(context=context_text, query=query)\n",
    "print(prompt)"
   ]
  },
  {
   "cell_type": "code",
   "execution_count": 34,
   "id": "43131a8e-992e-4586-9be5-c9d9bbd12836",
   "metadata": {},
   "outputs": [],
   "source": [
    "from langchain_community.chat_models import ChatOllama"
   ]
  },
  {
   "cell_type": "code",
   "execution_count": 37,
   "id": "9ba418ea-8b6a-4978-a147-8ecc2e99cb2f",
   "metadata": {},
   "outputs": [],
   "source": [
    "llm = ChatOllama(model='mistral', format=\"json\", temperature=0)\n",
    "response_text = llm.invoke(prompt)"
   ]
  },
  {
   "cell_type": "code",
   "execution_count": 38,
   "id": "18b8aa36-5484-434d-ba24-a9d1bd542199",
   "metadata": {},
   "outputs": [
    {
     "data": {
      "text/plain": [
       "AIMessage(content='{ \"Central Perk\" \\t\\t\\t\\t\\t\\t\\t\\t\\t\\t\\t\\t\\t\\t\\t\\t\\t\\t\\t\\t\\t\\t\\t\\t\\t\\t\\t\\t\\t\\t', id='run-e18eb618-bed5-4373-9c81-84e54b8470d5-0')"
      ]
     },
     "execution_count": 38,
     "metadata": {},
     "output_type": "execute_result"
    }
   ],
   "source": [
    "response_text"
   ]
  },
  {
   "cell_type": "code",
   "execution_count": null,
   "id": "7351e338-80ae-4efe-980e-653d3062a4e8",
   "metadata": {},
   "outputs": [],
   "source": []
  }
 ],
 "metadata": {
  "kernelspec": {
   "display_name": "Python 3 (ipykernel)",
   "language": "python",
   "name": "python3"
  },
  "language_info": {
   "codemirror_mode": {
    "name": "ipython",
    "version": 3
   },
   "file_extension": ".py",
   "mimetype": "text/x-python",
   "name": "python",
   "nbconvert_exporter": "python",
   "pygments_lexer": "ipython3",
   "version": "3.12.3"
  }
 },
 "nbformat": 4,
 "nbformat_minor": 5
}
